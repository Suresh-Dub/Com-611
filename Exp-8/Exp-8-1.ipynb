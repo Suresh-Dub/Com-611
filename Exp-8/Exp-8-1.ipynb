{
 "cells": [
  {
   "cell_type": "code",
   "execution_count": 1,
   "id": "505a230e",
   "metadata": {},
   "outputs": [],
   "source": [
    "# Implement the image processing basics: Converting Image to RGB to BGR and to Grayscale, Create a White/Black Color image, how to draw shapes on image\n",
    "import cv2\n",
    "import numpy as np"
   ]
  },
  {
   "cell_type": "code",
   "execution_count": 2,
   "id": "d89f88f3",
   "metadata": {},
   "outputs": [],
   "source": [
    "def convert_to_grayscale(image_path):\n",
    "  image = cv2.imread(image_path)\n",
    "  grayscale_image = cv2.cvtColor(image, cv2.COLOR_BGR2GRAY)\n",
    "\n",
    "  cv2.imshow(\"Original Image\", image)\n",
    "  cv2.imshow(\"Grayscale Image\", grayscale_image)\n",
    "  cv2.waitKey(0)\n",
    "  cv2.destroyAllWindows()\n"
   ]
  },
  {
   "cell_type": "code",
   "execution_count": 3,
   "id": "47a68d4e",
   "metadata": {},
   "outputs": [],
   "source": [
    "def convert_to_bgr(image_path, output_path):\n",
    "  image = cv2.imread(image_path)\n",
    "  bgr_image = cv2.cvtColor(image, cv2.COLOR_RGB2BGR)\n",
    "\n",
    "  cv2.imshow(\"Original Image\", image)\n",
    "  cv2.imshow(\"BGR Image\", bgr_image)\n",
    "  cv2.waitKey(0)\n",
    "  cv2.destroyAllWindows()\n",
    "\n",
    "  cv2.imwrite(output_path, bgr_image)\n",
    "  print(\"BGR image saved to:\", output_path)   \n",
    "\n"
   ]
  },
  {
   "cell_type": "code",
   "execution_count": 4,
   "id": "889a0f63",
   "metadata": {},
   "outputs": [],
   "source": [
    "def convert_bgr_to_rgb(output_path):\n",
    "  image_bgr = cv2.imread(output_path)\n",
    "  image_rgb = cv2.cvtColor(image_bgr, cv2.COLOR_BGR2RGB)\n",
    "\n",
    "  cv2.imshow(\"BGR Image\", image_bgr)\n",
    "  cv2.imshow(\"RGB Image\", image_rgb)\n",
    "  cv2.waitKey(0)\n",
    "  cv2.destroyAllWindows()"
   ]
  },
  {
   "cell_type": "code",
   "execution_count": 5,
   "id": "d314b234",
   "metadata": {},
   "outputs": [],
   "source": [
    "image_path = \"download1.jpg\"\n",
    "output_path = \"bgrmm.jpg\"\n"
   ]
  },
  {
   "cell_type": "code",
   "execution_count": 6,
   "id": "e17fe8b6",
   "metadata": {},
   "outputs": [],
   "source": [
    "convert_to_grayscale(image_path)"
   ]
  },
  {
   "cell_type": "code",
   "execution_count": 7,
   "id": "e8d9b64d",
   "metadata": {
    "scrolled": true
   },
   "outputs": [
    {
     "name": "stdout",
     "output_type": "stream",
     "text": [
      "BGR image saved to: bgrmm.jpg\n"
     ]
    }
   ],
   "source": [
    "convert_to_bgr(image_path, output_path)"
   ]
  },
  {
   "cell_type": "code",
   "execution_count": 8,
   "id": "97d6995c",
   "metadata": {},
   "outputs": [],
   "source": [
    "convert_bgr_to_rgb(output_path)"
   ]
  },
  {
   "cell_type": "code",
   "execution_count": 9,
   "id": "fb4f2153",
   "metadata": {},
   "outputs": [],
   "source": [
    "def create_white_image(width, height):\n",
    "  white_image = np.ones((height, width, 3), dtype=np.uint8) * 255\n",
    "\n",
    "  cv2.imshow(\"White Image\", white_image)\n",
    "  cv2.waitKey(0)\n",
    "  cv2.destroyAllWindows()\n",
    "\n",
    "  "
   ]
  },
  {
   "cell_type": "code",
   "execution_count": 10,
   "id": "9a1bbc89",
   "metadata": {},
   "outputs": [],
   "source": [
    "def create_black_image(width, height):\n",
    "  black_image = np.zeros((height, width, 3), dtype=np.uint8)\n",
    "\n",
    "  cv2.imshow(\"Black Image\", black_image)\n",
    "  cv2.waitKey(0)\n",
    "  cv2.destroyAllWindows()"
   ]
  },
  {
   "cell_type": "code",
   "execution_count": 11,
   "id": "54a94908",
   "metadata": {},
   "outputs": [],
   "source": [
    "def draw_shapes_on_image(image_path):\n",
    "  image = cv2.imread(image_path)\n",
    "\n",
    "  cv2.rectangle(image, (100, 100), (200, 200), (0, 255, 0), 2)\n",
    "  cv2.circle(image, (150, 150), 50, (0, 0, 255), 2)\n",
    "  cv2.line(image, (400,50),(400,250),(255,0,0),2)\n",
    "    \n",
    "  cv2.imshow(\"Image With Shapes\", image)\n",
    "  cv2.waitKey(0)\n",
    "  cv2.destroyAllWindows()"
   ]
  },
  {
   "cell_type": "code",
   "execution_count": 12,
   "id": "e6bb6bf2",
   "metadata": {},
   "outputs": [],
   "source": [
    "width, height = 800,600"
   ]
  },
  {
   "cell_type": "code",
   "execution_count": 13,
   "id": "8fc3b10d",
   "metadata": {},
   "outputs": [],
   "source": [
    "create_white_image(width,height)"
   ]
  },
  {
   "cell_type": "code",
   "execution_count": 14,
   "id": "6fedc584",
   "metadata": {},
   "outputs": [],
   "source": [
    "create_black_image(width,height)"
   ]
  },
  {
   "cell_type": "code",
   "execution_count": null,
   "id": "710a2dec",
   "metadata": {},
   "outputs": [],
   "source": [
    "image_path = \"download1.jpg\"\n",
    "draw_shapes_on_image(image_path)"
   ]
  },
  {
   "cell_type": "code",
   "execution_count": null,
   "id": "2f15ef0b",
   "metadata": {},
   "outputs": [],
   "source": []
  },
  {
   "cell_type": "code",
   "execution_count": null,
   "id": "e432318b",
   "metadata": {},
   "outputs": [],
   "source": []
  }
 ],
 "metadata": {
  "kernelspec": {
   "display_name": "Python 3 (ipykernel)",
   "language": "python",
   "name": "python3"
  },
  "language_info": {
   "codemirror_mode": {
    "name": "ipython",
    "version": 3
   },
   "file_extension": ".py",
   "mimetype": "text/x-python",
   "name": "python",
   "nbconvert_exporter": "python",
   "pygments_lexer": "ipython3",
   "version": "3.11.7"
  }
 },
 "nbformat": 4,
 "nbformat_minor": 5
}
